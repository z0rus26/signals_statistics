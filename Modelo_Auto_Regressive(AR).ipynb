{
  "nbformat": 4,
  "nbformat_minor": 0,
  "metadata": {
    "colab": {
      "name": "Modelo_Auto-Regressive(AR).ipynb",
      "provenance": [],
      "authorship_tag": "ABX9TyM0e6RBP0398CptY1GI8cBf",
      "include_colab_link": true
    },
    "kernelspec": {
      "name": "python3",
      "display_name": "Python 3"
    }
  },
  "cells": [
    {
      "cell_type": "markdown",
      "metadata": {
        "id": "view-in-github",
        "colab_type": "text"
      },
      "source": [
        "<a href=\"https://colab.research.google.com/github/z0rus26/signals_statistics/blob/main/Modelo_Auto_Regressive(AR).ipynb\" target=\"_parent\"><img src=\"https://colab.research.google.com/assets/colab-badge.svg\" alt=\"Open In Colab\"/></a>"
      ]
    },
    {
      "cell_type": "code",
      "metadata": {
        "id": "7ruJHR5F0CEH"
      },
      "source": [
        ""
      ],
      "execution_count": null,
      "outputs": []
    },
    {
      "cell_type": "markdown",
      "metadata": {
        "id": "7mvOr-vNTKxj"
      },
      "source": [
        "Procesos Estocásticos Estacionarios\n",
        "\n",
        "\n",
        "Son procesos estocásticos que se caracterizan porque algunas de sus propiedades se mantienen constantes a lo largo del tiempo.\n",
        "En concreto, un proceso estocástico, ${X(t):t ∈ T{$ ,con espacio de tiempos  es estacionario en sentido amplio si:\n",
        "\n",
        "[http://www.estadistica-dma.ulpgc.es/EyPE/pdf/tema_6-1_%20Procesos_Estacionarios.pdf]\n",
        "\n",
        "\n",
        "\n",
        "1.   Su valor medio se mantiene constante en el tiempo:\n",
        "$E [X (t)] = μ , ∀t ∈ T$\n",
        "\n",
        "2.   La covarianza entre observaciones del proceso depende solamente del tiempo $\\tau$ que las separa y no del momento $t$ en que se producen.\n",
        "\n",
        "$cov (X (t), X (t + τ)) = R (τ)$\n",
        "\n",
        "Se le conoce a $R (τ)$ como la función de autocovarianza\n",
        "\n",
        "\n",
        "Ahora, si tomamos un caso particular con $\\tau =0$, resulta:\n",
        "\n",
        "$σ^2_x = var(X (t)) = cov (X (t), X (t)) = R (0)$\n",
        "\n",
        "Entonces es posible decir que la varianza de un proceso estacionario en sentido amplio tiende a ser constante a lo largo del tiempo y su valor es igual a $R(0)$.\n",
        "\n",
        "\n",
        "\n",
        "\n"
      ]
    },
    {
      "cell_type": "markdown",
      "metadata": {
        "id": "tjzftOVd0LjW"
      },
      "source": [
        "Modelo autorregresivo (AR)\n",
        "\n",
        "En estadística y procesamiento de señales, un modelo autorregresivo (AR) es una representación de un proceso aleatorio, en el que la variable de interés depende de sus observaciones pasadas. Específicamente, la variable de interés o de salida, depende linealmente de sus valores anteriores. Por esto decimos que existe dependencia lineal entre las distintas observaciones de la variable.\n",
        "\n",
        "El modelo AR(p) se define como:\n",
        "\n",
        "${\\displaystyle X_{t}=c+\\sum _{i=1}^{p}\\varphi _{i}X_{t-i}+\\varepsilon _{t}\\,}$\n",
        "\n",
        "\n",
        "Donde:  \n",
        "\n",
        "*   ${\\displaystyle \\varphi _{1},\\ldots ,\\varphi _{p}}$,\n",
        " combinación lineal que describe el modelo.  \n",
        "*   c es una constante.\n",
        "*   $\\varepsilon _{t}$ corresponde al error blanco, infaltable.\n",
        "\n",
        "Usando un operador lineal $B$ de desplazamiento, es posible entonces:\n",
        "\n",
        "${\\displaystyle X_{t}=c+\\sum _{i=1}^{p}\\varphi _{i}B^{i}X_{t}+\\varepsilon _{t}}$\n",
        "\n",
        "Pasando a la izquierda la sumatoria  con $B_i$ y $X_t$, es posible  plantear un modelo autorregresivo por lo tanto se puede ver como la salida de un sistema cuya entrada es ruido blanco.\n",
        "\n",
        "\n",
        "\n",
        "\n"
      ]
    },
    {
      "cell_type": "code",
      "metadata": {
        "id": "8W4-O6qkzjuB"
      },
      "source": [
        "yhat = b0 + b1*X1"
      ],
      "execution_count": null,
      "outputs": []
    }
  ]
}